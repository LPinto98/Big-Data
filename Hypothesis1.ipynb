{
  "nbformat": 4,
  "nbformat_minor": 0,
  "metadata": {
    "colab": {
      "provenance": []
    },
    "kernelspec": {
      "name": "python3",
      "display_name": "Python 3"
    },
    "language_info": {
      "name": "python"
    }
  },
  "cells": [
    {
      "cell_type": "code",
      "source": [
        "!pip install pyspark"
      ],
      "metadata": {
        "colab": {
          "base_uri": "https://localhost:8080/"
        },
        "id": "dZkKch6uNglS",
        "outputId": "67b1936b-71c5-4446-8eae-9d3b3820583a"
      },
      "execution_count": 1,
      "outputs": [
        {
          "output_type": "stream",
          "name": "stdout",
          "text": [
            "Looking in indexes: https://pypi.org/simple, https://us-python.pkg.dev/colab-wheels/public/simple/\n",
            "Collecting pyspark\n",
            "  Downloading pyspark-3.4.0.tar.gz (310.8 MB)\n",
            "\u001b[2K     \u001b[90m━━━━━━━━━━━━━━━━━━━━━━━━━━━━━━━━━━━━━━━\u001b[0m \u001b[32m310.8/310.8 MB\u001b[0m \u001b[31m4.2 MB/s\u001b[0m eta \u001b[36m0:00:00\u001b[0m\n",
            "\u001b[?25h  Preparing metadata (setup.py) ... \u001b[?25l\u001b[?25hdone\n",
            "Requirement already satisfied: py4j==0.10.9.7 in /usr/local/lib/python3.10/dist-packages (from pyspark) (0.10.9.7)\n",
            "Building wheels for collected packages: pyspark\n",
            "  Building wheel for pyspark (setup.py) ... \u001b[?25l\u001b[?25hdone\n",
            "  Created wheel for pyspark: filename=pyspark-3.4.0-py2.py3-none-any.whl size=311317130 sha256=be6e2887ec4b0afcccd3663852361db8cab06fb1f6159c5c6a72a7ff348a77c8\n",
            "  Stored in directory: /root/.cache/pip/wheels/7b/1b/4b/3363a1d04368e7ff0d408e57ff57966fcdf00583774e761327\n",
            "Successfully built pyspark\n",
            "Installing collected packages: pyspark\n",
            "Successfully installed pyspark-3.4.0\n"
          ]
        }
      ]
    },
    {
      "cell_type": "code",
      "execution_count": 2,
      "metadata": {
        "id": "3TF1ulfwY_gJ"
      },
      "outputs": [],
      "source": [
        "from pyspark.sql import SparkSession\n",
        "from pyspark.sql.functions import col, month, to_timestamp, when, expr\n",
        "from pyspark.sql.types import DoubleType\n",
        "from google.colab import drive\n",
        "import shutil \n",
        "import os\n",
        "from scipy.stats import ttest_ind\n",
        "import numpy as np\n",
        "import matplotlib.pyplot as plt"
      ]
    },
    {
      "cell_type": "code",
      "source": [
        "# Set up PySpark\n",
        "spark = SparkSession.builder.appName(\"CyclingAnalysis\").getOrCreate()"
      ],
      "metadata": {
        "id": "UMsI-cuVdV0I"
      },
      "execution_count": 3,
      "outputs": []
    },
    {
      "cell_type": "code",
      "source": [
        "# Connect to Google drive to extract csv files from dataset zip file \n",
        "drive.mount('/content/drive/')\n",
        "shutil.unpack_archive(\"/content/drive/MyDrive/BDA_Datasets/cyclehireusagestats-2014.zip\", \"/content/Dataset/\")\n",
        "\n",
        "dataset_path = \"/content/Dataset/\"\n",
        "file_list = os.listdir(dataset_path)\n",
        "dataset_files = [os.path.join(dataset_path, file) for file in file_list]\n"
      ],
      "metadata": {
        "colab": {
          "base_uri": "https://localhost:8080/"
        },
        "id": "smZJtrnGelrF",
        "outputId": "bb4ecd1c-7097-416b-abdb-eef812311959"
      },
      "execution_count": 4,
      "outputs": [
        {
          "output_type": "stream",
          "name": "stdout",
          "text": [
            "Mounted at /content/drive/\n"
          ]
        }
      ]
    },
    {
      "cell_type": "code",
      "source": [
        "# Create a list of csv file names to iterate over\n",
        "csv_files = [file for file in dataset_files if file.endswith('.csv')]\n",
        "print(csv_files)\n",
        "\n",
        "# Read and combine the CSV files into a single DataFrame\n",
        "df = None\n",
        "for csv_file in csv_files:\n",
        "    # Select only first 9 columns in order to avoid garbage columns \n",
        "    temp_df = spark.read.option(\"header\", \"true\").csv(csv_file).select(spark.read.option(\"header\", \"true\").csv(csv_file).columns[:9])\n",
        "    # Typecast the duration column to be Double\n",
        "    temp_df = temp_df.withColumn(\"Duration\", col(\"Duration\").cast(DoubleType()))\n",
        "    # Drop rows where start date is null \n",
        "    temp_df = temp_df.na.drop(subset=[\"Start Date\"])\n",
        "    # Convert Start Date to timestamp\n",
        "    temp_df = temp_df.withColumn(\"Start Date\", to_timestamp(col(\"Start Date\"), \"dd/MM/yyyy HH:mm\"))\n",
        "    temp_df = temp_df.withColumn(\"End Date\", to_timestamp(col(\"End Date\"), \"dd/MM/yyyy HH:mm\"))\n",
        "    # Swap start date and end date if duration is negative\n",
        "    temp_df = temp_df.withColumn(\"Swapped Date\", when(col(\"Duration\") < 0, col(\"Start Date\")).otherwise(col(\"End Date\")))\n",
        "    temp_df = temp_df.withColumn(\"Start Date\", when(col(\"Duration\") < 0, col(\"End Date\")).otherwise(col(\"Start Date\")))\n",
        "    temp_df = temp_df.withColumn(\"End Date\", when(col(\"Duration\") < 0, col(\"Swapped Date\")).otherwise(col(\"End Date\"))).drop(\"Swapped Date\")\n",
        "\n",
        "     # Calculate duration as the difference between end and start dates\n",
        "    temp_df = temp_df.withColumn(\"Duration\", expr(\"(unix_timestamp(`End Date`) - unix_timestamp(`Start Date`))\"))\n",
        "\n",
        "    if df is None:\n",
        "        df = temp_df\n",
        "    else:\n",
        "        # Join the temp dataframe with the current dataset \n",
        "        df = df.union(temp_df)\n"
      ],
      "metadata": {
        "colab": {
          "base_uri": "https://localhost:8080/"
        },
        "id": "K7nJGEUFbR5O",
        "outputId": "1d31a00f-1ce6-4bcf-b44f-302024a4b45d"
      },
      "execution_count": 5,
      "outputs": [
        {
          "output_type": "stream",
          "name": "stdout",
          "text": [
            "['/content/Dataset/9a Journey Data Extract 17Aug14-31Aug14.csv', '/content/Dataset/1. Journey Data Extract 05Jan14-02Feb14.csv', '/content/Dataset/10b. Journey Data Extract 28Sep14-11Oct14.csv', '/content/Dataset/2. Journey Data Extract 03Feb14-01Mar14.csv', '/content/Dataset/9b Journey Data Extract 01Sep14-13Sep14.csv', '/content/Dataset/11a. Journey Data Extract 12Oct14-08Nov14.csv', '/content/Dataset/8a Journey Data Extract 20Jul14-31Jul14.csv', '/content/Dataset/13a. Journey Data Extract 07Dec14-21Dec14.csv', '/content/Dataset/7. Journey Data Extract 22Jun14-19Jul14.csv', '/content/Dataset/6. Journey Data Extract 25May14-21Jun14.csv', '/content/Dataset/12a. Journey Data Extract 09Nov14-06Dec14.csv', '/content/Dataset/8b Journey Data Extract 01Aug14-16Aug14.csv', '/content/Dataset/4. Journey Data Extract 01Apr14-26Apr14.csv', '/content/Dataset/13b. Journey Data Extract 22Dec14-03Jan15.csv', '/content/Dataset/3. Journey Data Extract 02Mar14-31Mar14.csv', '/content/Dataset/11b. Journey Data Extract 12Oct14-08Nov14.csv', '/content/Dataset/5. Journey Data Extract 27Apr14-24May14.csv', '/content/Dataset/14. Journey Data Extract 08Dec13-04Jan14.csv', '/content/Dataset/10a. Journey Data Extract 14Sep14-27Sep14.csv', '/content/Dataset/12b. Journey Data Extract 09Nov14-06Dec14.csv']\n"
          ]
        }
      ]
    },
    {
      "cell_type": "code",
      "source": [
        "# Explore and visualize the data\n",
        "df.printSchema()"
      ],
      "metadata": {
        "colab": {
          "base_uri": "https://localhost:8080/"
        },
        "id": "d-uKg_oOivAM",
        "outputId": "2b5631fb-9e6d-4c7a-d0d0-0316d6e871de"
      },
      "execution_count": 6,
      "outputs": [
        {
          "output_type": "stream",
          "name": "stdout",
          "text": [
            "root\n",
            " |-- Rental Id: string (nullable = true)\n",
            " |-- Duration: long (nullable = true)\n",
            " |-- Bike Id: string (nullable = true)\n",
            " |-- End Date: timestamp (nullable = true)\n",
            " |-- EndStation Id: string (nullable = true)\n",
            " |-- EndStation Name: string (nullable = true)\n",
            " |-- Start Date: timestamp (nullable = true)\n",
            " |-- StartStation Id: string (nullable = true)\n",
            " |-- StartStation Name: string (nullable = true)\n",
            "\n"
          ]
        }
      ]
    },
    {
      "cell_type": "code",
      "source": [
        "# Perform exploratory data analysis (EDA) to gain insights\n",
        "df.describe().show()"
      ],
      "metadata": {
        "colab": {
          "base_uri": "https://localhost:8080/"
        },
        "id": "MJuB-ALeayRy",
        "outputId": "1ea0d97b-7e1e-4318-c649-deff849d7533"
      },
      "execution_count": 7,
      "outputs": [
        {
          "output_type": "stream",
          "name": "stdout",
          "text": [
            "+-------+--------------------+------------------+------------------+------------------+--------------------+------------------+--------------------+\n",
            "|summary|           Rental Id|          Duration|           Bike Id|     EndStation Id|     EndStation Name|   StartStation Id|   StartStation Name|\n",
            "+-------+--------------------+------------------+------------------+------------------+--------------------+------------------+--------------------+\n",
            "|  count|            10242483|          10242483|          10242483|          10242351|            10242351|          10242483|            10242483|\n",
            "|   mean|3.4862637579402864E7|1466.1368283452362| 6712.062896858115| 320.5373222417392|                null| 321.1881879618448|                null|\n",
            "| stddev|   3169119.883330912|12946.831876201535|3719.8446340975524|210.26335159599523|                null|210.81468800069445|                null|\n",
            "|    min|            29340869|                 0|                 1|                 1|Abbey Orchard Str...|                 1|Abbey Orchard Str...|\n",
            "|    max|            40346506|           2596560|              9999|                99|           tabletop1|                99|           tabletop1|\n",
            "+-------+--------------------+------------------+------------------+------------------+--------------------+------------------+--------------------+\n",
            "\n"
          ]
        }
      ]
    },
    {
      "cell_type": "code",
      "source": [
        "# Top 20 rows in dataframe\n",
        "df.show()"
      ],
      "metadata": {
        "colab": {
          "base_uri": "https://localhost:8080/"
        },
        "id": "SXR7TfuPj4hS",
        "outputId": "77fbb215-f6b1-4a8d-f138-b3c3dcb59d49"
      },
      "execution_count": 8,
      "outputs": [
        {
          "output_type": "stream",
          "name": "stdout",
          "text": [
            "+---------+--------+-------+-------------------+-------------+--------------------+-------------------+---------------+--------------------+\n",
            "|Rental Id|Duration|Bike Id|           End Date|EndStation Id|     EndStation Name|         Start Date|StartStation Id|   StartStation Name|\n",
            "+---------+--------+-------+-------------------+-------------+--------------------+-------------------+---------------+--------------------+\n",
            "| 36389367|     300|   4107|2014-08-17 00:05:00|          206|New Road 1 , Whit...|2014-08-17 00:00:00|            444|Bethnal Green Gar...|\n",
            "| 36389361|    1140|   3763|2014-08-17 00:19:00|          186|South Wharf Road,...|2014-08-17 00:00:00|            713|Hawley Crescent, ...|\n",
            "| 36389355|     120|   2284|2014-08-17 00:02:00|          432|Exhibition Road M...|2014-08-17 00:00:00|            428|Exhibition Road, ...|\n",
            "| 36389352|     360|    446|2014-08-17 00:06:00|          433|Wren Street, Holborn|2014-08-17 00:00:00|            436|Red Lion Street, ...|\n",
            "| 36389372|     240|   7835|2014-08-17 00:04:00|          635|Greyhound Road, H...|2014-08-17 00:00:00|            707|Barons Court Stat...|\n",
            "| 36389375|    1440|  12692|2014-08-17 00:24:00|           33|Altab Ali Park, W...|2014-08-17 00:00:00|            192|Wardour Street, Soho|\n",
            "| 36389376|    1440|   9700|2014-08-17 00:24:00|           33|Altab Ali Park, W...|2014-08-17 00:00:00|            192|Wardour Street, Soho|\n",
            "| 36389365|    1380|   1382|2014-08-17 00:23:00|          202|Leman Street, Ald...|2014-08-17 00:00:00|            762|Storey's Gate, We...|\n",
            "| 36389353|     240|  10638|2014-08-17 00:04:00|          469|Lindfield Street,...|2014-08-17 00:00:00|            510|Westferry DLR, Li...|\n",
            "| 36389351|     540|   9525|2014-08-17 00:09:00|           33|Altab Ali Park, W...|2014-08-17 00:00:00|            115|Braham Street, Al...|\n",
            "| 36389373|    2460|   4053|2014-08-17 00:41:00|          753|Hammersmith Town ...|2014-08-17 00:00:00|            730|Bridge Avenue, Ha...|\n",
            "| 36389366|    1440|   7750|2014-08-17 00:24:00|          501|Cephas Street, Be...|2014-08-17 00:00:00|            516|Chrisp Street Mar...|\n",
            "| 36389363|    1500|   8216|2014-08-17 00:25:00|          501|Cephas Street, Be...|2014-08-17 00:00:00|            516|Chrisp Street Mar...|\n",
            "| 36389364|     900|   9758|2014-08-17 00:15:00|          470|   Mostyn Grove, Bow|2014-08-17 00:00:00|            516|Chrisp Street Mar...|\n",
            "| 36389360|    1080|  12462|2014-08-17 00:18:00|           33|Altab Ali Park, W...|2014-08-17 00:00:00|            234|Liverpool Road (N...|\n",
            "| 36389370|    1620|   3825|2014-08-17 00:27:00|          552|Watney Street, Sh...|2014-08-17 00:00:00|            130|Tower Gardens , T...|\n",
            "| 36389371|    1620|   1315|2014-08-17 00:27:00|          552|Watney Street, Sh...|2014-08-17 00:00:00|            130|Tower Gardens , T...|\n",
            "| 36389359|     660|   3819|2014-08-17 00:11:00|          130|Tower Gardens , T...|2014-08-17 00:00:00|            276|Lower Thames Stre...|\n",
            "| 36389357|    9000|   6316|2014-08-17 02:30:00|          121|Baker Street, Mar...|2014-08-17 00:00:00|            114|Park Road (Baker ...|\n",
            "| 36389358|    1260|   8153|2014-08-17 00:21:00|          238|Frampton Street, ...|2014-08-17 00:00:00|              2|Phillimore Garden...|\n",
            "+---------+--------+-------+-------------------+-------------+--------------------+-------------------+---------------+--------------------+\n",
            "only showing top 20 rows\n",
            "\n"
          ]
        }
      ]
    },
    {
      "cell_type": "code",
      "source": [
        "# Filter the data for Spring (March, April, May)\n",
        "spring_df = df.filter((month(col(\"Start Date\")) >= 3) & (month(col(\"Start Date\")) <= 5))\n",
        "\n",
        "# Filter the data for Autumn (September, October, November)\n",
        "autumn_df = df.filter((month(col(\"Start Date\")) >= 9) & (month(col(\"Start Date\")) <= 11))\n",
        "\n",
        "# Calculate the average duration of rides for Spring and Autumn\n",
        "spring_avg_duration = spring_df.agg({\"Duration\": \"avg\"}).collect()[0][0]\n",
        "autumn_avg_duration = autumn_df.agg({\"Duration\": \"avg\"}).collect()[0][0]\n"
      ],
      "metadata": {
        "id": "6jZmoVFJgENs"
      },
      "execution_count": 9,
      "outputs": []
    },
    {
      "cell_type": "code",
      "source": [
        "autumn_df.filter(col(\"Duration\")==0).show()"
      ],
      "metadata": {
        "colab": {
          "base_uri": "https://localhost:8080/"
        },
        "id": "td6s9QFvx9QW",
        "outputId": "5bbd7f73-f15e-44af-ef17-5a050ac63358"
      },
      "execution_count": 10,
      "outputs": [
        {
          "output_type": "stream",
          "name": "stdout",
          "text": [
            "+---------+--------+-------+-------------------+-------------+--------------------+-------------------+---------------+--------------------+\n",
            "|Rental Id|Duration|Bike Id|           End Date|EndStation Id|     EndStation Name|         Start Date|StartStation Id|   StartStation Name|\n",
            "+---------+--------+-------+-------------------+-------------+--------------------+-------------------+---------------+--------------------+\n",
            "| 37876147|       0|  11133|2014-09-28 00:16:00|          406|Speakers' Corner ...|2014-09-28 00:16:00|            406|Speakers' Corner ...|\n",
            "| 37876224|       0|   2627|2014-09-28 00:21:00|           18|Drury Lane, Coven...|2014-09-28 00:21:00|             18|Drury Lane, Coven...|\n",
            "| 37876509|       0|  10887|2014-09-28 00:37:00|          480|Flamborough Stree...|2014-09-28 00:37:00|            480|Flamborough Stree...|\n",
            "| 37876583|       0|   1936|2014-09-28 00:42:00|          149|Kennington Road P...|2014-09-28 00:42:00|            149|Kennington Road P...|\n",
            "| 37876974|       0|   3256|2014-09-28 01:10:00|          228|St. James's Squar...|2014-09-28 01:10:00|            228|St. James's Squar...|\n",
            "| 37877560|       0|   3000|2014-09-28 01:47:00|           48|Godliman Street, ...|2014-09-28 01:47:00|             48|Godliman Street, ...|\n",
            "| 37877721|       0|   2217|2014-09-28 01:57:00|           31|Fanshaw Street, H...|2014-09-28 01:57:00|             31|Fanshaw Street, H...|\n",
            "| 37877840|       0|   4894|2014-09-28 02:04:00|           40|Commercial Street...|2014-09-28 02:04:00|             40|Commercial Street...|\n",
            "| 37877979|       0|   7983|2014-09-28 02:17:00|          217|Wormwood Street, ...|2014-09-28 02:17:00|            217|Wormwood Street, ...|\n",
            "| 37878116|       0|   6205|2014-09-28 02:28:00|          612|Wandsworth Rd, Is...|2014-09-28 02:28:00|            612|Wandsworth Rd, Is...|\n",
            "| 37878299|       0|   8993|2014-09-28 02:44:00|          160|Waterloo Place, S...|2014-09-28 02:44:00|            160|Waterloo Place, S...|\n",
            "| 37878653|       0|   9612|2014-09-28 03:18:00|          325|St. Martin's Stre...|2014-09-28 03:18:00|            325|St. Martin's Stre...|\n",
            "| 37878793|       0|  11553|2014-09-28 03:34:00|          115|Braham Street, Al...|2014-09-28 03:34:00|            115|Braham Street, Al...|\n",
            "| 37878795|       0|   1109|2014-09-28 03:34:00|          115|Braham Street, Al...|2014-09-28 03:34:00|            115|Braham Street, Al...|\n",
            "| 37879141|       0|   8100|2014-09-28 04:33:00|          367|Harrowby Street, ...|2014-09-28 04:33:00|            367|Harrowby Street, ...|\n",
            "| 37879202|       0|   5815|2014-09-28 04:50:00|          486|Granby Street, Sh...|2014-09-28 04:50:00|            486|Granby Street, Sh...|\n",
            "| 37879265|       0|   5309|2014-09-28 05:07:00|          188|Nutford Place, Ma...|2014-09-28 05:07:00|            188|Nutford Place, Ma...|\n",
            "| 37879287|       0|   3738|2014-09-28 05:13:00|          169|Porchester Place,...|2014-09-28 05:13:00|            169|Porchester Place,...|\n",
            "| 37879539|       0|   5352|2014-09-28 06:36:00|          410|Edgware Road Stat...|2014-09-28 06:36:00|            410|Edgware Road Stat...|\n",
            "| 37879571|       0|   4790|2014-09-28 06:44:00|          664|Austin Road, Batt...|2014-09-28 06:44:00|            664|Austin Road, Batt...|\n",
            "+---------+--------+-------+-------------------+-------------+--------------------+-------------------+---------------+--------------------+\n",
            "only showing top 20 rows\n",
            "\n"
          ]
        }
      ]
    },
    {
      "cell_type": "code",
      "source": [
        "spring_df.filter(col(\"Duration\")<0).show()"
      ],
      "metadata": {
        "colab": {
          "base_uri": "https://localhost:8080/"
        },
        "id": "Xy8LMd-1PDf-",
        "outputId": "9a4e3471-fcde-4357-fee8-b1151539118e"
      },
      "execution_count": 11,
      "outputs": [
        {
          "output_type": "stream",
          "name": "stdout",
          "text": [
            "+---------+--------+-------+--------+-------------+---------------+----------+---------------+-----------------+\n",
            "|Rental Id|Duration|Bike Id|End Date|EndStation Id|EndStation Name|Start Date|StartStation Id|StartStation Name|\n",
            "+---------+--------+-------+--------+-------------+---------------+----------+---------------+-----------------+\n",
            "+---------+--------+-------+--------+-------------+---------------+----------+---------------+-----------------+\n",
            "\n"
          ]
        }
      ]
    },
    {
      "cell_type": "markdown",
      "source": [
        "H0 (Null Hypothesis): In 2014, people ride for longer in Autumn than in Spring\n",
        "\n",
        "H1 (Alternative Hypothesis): In 2014, people ride for longer in Spring than in Autumn"
      ],
      "metadata": {
        "id": "zAQ-WIQ1rxL1"
      }
    },
    {
      "cell_type": "code",
      "source": [
        "# Extract the duration values from the DataFrames\n",
        "spring_durations = spring_df.select(\"Duration\").rdd.flatMap(lambda x: x).collect()\n",
        "autumn_durations = autumn_df.select(\"Duration\").rdd.flatMap(lambda x: x).collect()\n",
        "\n",
        "# Check if spring_durations and autumn_durations contain numerical values\n",
        "spring_durations = [float(duration) for duration in spring_durations]\n",
        "autumn_durations = [float(duration) for duration in autumn_durations]\n",
        "\n",
        "# Check if spring_durations and autumn_durations are non-empty\n",
        "if len(spring_durations) == 0 or len(autumn_durations) == 0:\n",
        "    print(\"One or both datasets have empty 'Duration' columns.\")\n",
        "else:\n",
        "    # Perform a two-sample independent t-test\n",
        "    t_statistic, p_value = ttest_ind(spring_durations, autumn_durations, equal_var=False)\n",
        "    \n",
        "    # Check if t-statistic and p-value are NaN\n",
        "    if np.isnan(t_statistic) or np.isnan(p_value):\n",
        "        print(\"Invalid t-statistic or p-value. Check your data.\")\n",
        "    else: \n",
        "        print(\"T-Statistic:\", t_statistic)\n",
        "        print(\"P-Value:\", p_value)"
      ],
      "metadata": {
        "colab": {
          "base_uri": "https://localhost:8080/"
        },
        "id": "hwj-0-KNhXAT",
        "outputId": "a6e89e77-9f24-4d78-957f-303a72e9ef08"
      },
      "execution_count": 12,
      "outputs": [
        {
          "output_type": "stream",
          "name": "stdout",
          "text": [
            "T-Statistic: 14.293192098054327\n",
            "P-Value: 2.4179790215678895e-46\n"
          ]
        }
      ]
    },
    {
      "cell_type": "markdown",
      "source": [
        "### Since the p-value is extremely small (p<0.05), we can reject the null hypothesis (H0). This suggests strong evidence to support the alternative hypothesis (H1) that the average duration of bicycle rides during Spring in 2014 is longer than during Autumn.\n"
      ],
      "metadata": {
        "id": "7NflarKWsJl1"
      }
    },
    {
      "cell_type": "code",
      "source": [
        "print(\"Spring avg duration: \",spring_avg_duration)\n",
        "print(\"Autumn Avg duration : \",autumn_avg_duration)"
      ],
      "metadata": {
        "colab": {
          "base_uri": "https://localhost:8080/"
        },
        "id": "BloyNJeel_6F",
        "outputId": "bd783c80-eaec-4457-c0da-befc29f60b9b"
      },
      "execution_count": 13,
      "outputs": [
        {
          "output_type": "stream",
          "name": "stdout",
          "text": [
            "Spring avg duration:  1515.2960927167885\n",
            "Autumn Avg duration :  1352.6149131458556\n"
          ]
        }
      ]
    },
    {
      "cell_type": "code",
      "source": [
        "# Bar Chart visualizing the comparison of average duration between spring and autumn \n",
        "seasons = [\"Spring\", \"Autumn\"]\n",
        "avg_durations = [spring_avg_duration, autumn_avg_duration]\n",
        "\n",
        "plt.bar(seasons, avg_durations)\n",
        "plt.xlabel(\"Season\")\n",
        "plt.ylabel(\"Average Duration\")\n",
        "plt.title(\"Average Duration of Bicycle Rides - Spring vs Autumn (2014)\")\n",
        "plt.show()"
      ],
      "metadata": {
        "colab": {
          "base_uri": "https://localhost:8080/",
          "height": 472
        },
        "id": "68LJV8Y4JOO8",
        "outputId": "d96d96af-237e-41ce-bed6-a904c4802248"
      },
      "execution_count": 14,
      "outputs": [
        {
          "output_type": "display_data",
          "data": {
            "text/plain": [
              "<Figure size 640x480 with 1 Axes>"
            ],
            "image/png": "[encoded data removed]"
          },
          "metadata": {}
        }
      ]
    },
    {
      "cell_type": "markdown",
      "source": [
        "### As the calculated value reaffirms the conclusion from the statistical analysis, therefore we conclude,  “In 2014, people ride for longer in Spring than in Autumn”  "
      ],
      "metadata": {
        "id": "mBgzLQOyskWU"
      }
    }
  ]
}
